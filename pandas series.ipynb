{
 "cells": [
  {
   "cell_type": "code",
   "execution_count": 2,
   "id": "3185b8a7-c822-4f37-b705-c96075964a36",
   "metadata": {},
   "outputs": [],
   "source": [
    "import pandas as pd"
   ]
  },
  {
   "cell_type": "code",
   "execution_count": 3,
   "id": "d1de2a46-46c5-4f09-b5ff-d6a941dc350a",
   "metadata": {},
   "outputs": [],
   "source": [
    "import numpy as np\n",
    "#analyzing \"the group of seven\" which is political formed by canada,france,italy,japan,UK and, US. analysing population,using pandas.Series object"
   ]
  },
  {
   "cell_type": "code",
   "execution_count": 16,
   "id": "781e24e7-b3b1-45a7-8fc1-3fecd835689e",
   "metadata": {},
   "outputs": [
    {
     "data": {
      "text/plain": [
       "0     35.467\n",
       "1     63.951\n",
       "2     80.940\n",
       "3     60.665\n",
       "4    127.061\n",
       "5     64.511\n",
       "6    318.523\n",
       "Name: Group of 7 countires population in millions, dtype: float64"
      ]
     },
     "execution_count": 16,
     "metadata": {},
     "output_type": "execute_result"
    }
   ],
   "source": [
    "#series creation\n",
    "g7_pop = pd.Series([35.467, 63.951, 80.940, 60.665, 127.061, 64.511, 318.523])\n",
    "g7_pop.name= 'Group of 7 countires population in millions'\n",
    "g7_pop\n"
   ]
  },
  {
   "cell_type": "code",
   "execution_count": 5,
   "id": "a82a8043-54e8-4a37-936e-657713158f58",
   "metadata": {},
   "outputs": [
    {
     "data": {
      "text/plain": [
       "dtype('float64')"
      ]
     },
     "execution_count": 5,
     "metadata": {},
     "output_type": "execute_result"
    }
   ],
   "source": [
    "g7_pop.dtype"
   ]
  },
  {
   "cell_type": "code",
   "execution_count": 6,
   "id": "8f701f01-bd49-4cbb-84e0-bb3ee0ba4cad",
   "metadata": {},
   "outputs": [
    {
     "data": {
      "text/plain": [
       "array([ 35.467,  63.951,  80.94 ,  60.665, 127.061,  64.511, 318.523])"
      ]
     },
     "execution_count": 6,
     "metadata": {},
     "output_type": "execute_result"
    }
   ],
   "source": [
    "g7_pop.values"
   ]
  },
  {
   "cell_type": "code",
   "execution_count": 7,
   "id": "41a4f52a-0a8b-4188-a458-895b602631cf",
   "metadata": {},
   "outputs": [
    {
     "data": {
      "text/plain": [
       "np.float64(63.951)"
      ]
     },
     "execution_count": 7,
     "metadata": {},
     "output_type": "execute_result"
    }
   ],
   "source": [
    "g7_pop[1]"
   ]
  },
  {
   "cell_type": "code",
   "execution_count": 8,
   "id": "bd312aa7-b2d7-4324-9f88-ab94cd07fe21",
   "metadata": {},
   "outputs": [
    {
     "data": {
      "text/plain": [
       "RangeIndex(start=0, stop=7, step=1)"
      ]
     },
     "execution_count": 8,
     "metadata": {},
     "output_type": "execute_result"
    }
   ],
   "source": [
    "g7_pop.index"
   ]
  },
  {
   "cell_type": "code",
   "execution_count": 9,
   "id": "85e8af0d-2c78-4fad-af5f-7fbd2bd47a43",
   "metadata": {},
   "outputs": [
    {
     "data": {
      "text/plain": [
       "canada      35.467\n",
       "france      63.951\n",
       "Germany     80.940\n",
       "italy       60.665\n",
       "japan      127.061\n",
       "UK          64.511\n",
       "US         318.523\n",
       "Name: Group of 7 countires population in millions, dtype: float64"
      ]
     },
     "execution_count": 9,
     "metadata": {},
     "output_type": "execute_result"
    }
   ],
   "source": [
    "g7_pop.index = [ \n",
    "    'canada', 'france','Germany', 'italy', 'japan', 'UK' , 'US']\n",
    "g7_pop"
   ]
  },
  {
   "cell_type": "code",
   "execution_count": 10,
   "id": "5cc57db8-177f-49d1-990a-d858ab5bdeed",
   "metadata": {},
   "outputs": [
    {
     "data": {
      "text/plain": [
       "canada         35.467\n",
       "france         63.951\n",
       "Germany        80.940\n",
       "italy          60.665\n",
       "japan          27.061\n",
       "UK             64.511\n",
       "US            318.523\n",
       "Name:  Group of 7 countires population in millions, dtype: float64"
      ]
     },
     "execution_count": 10,
     "metadata": {},
     "output_type": "execute_result"
    }
   ],
   "source": [
    "pd.Series({\n",
    "    'canada' :      35.467,\n",
    "'france' :     63.951,\n",
    "'Germany' :    80.940,\n",
    "'italy     ':  60.665,\n",
    "'japan'      :27.061,\n",
    "'UK    ':      64.511,\n",
    "'US    ':     318.523} ,name=' Group of 7 countires population in millions')\n",
    "    "
   ]
  },
  {
   "cell_type": "code",
   "execution_count": 11,
   "id": "8f064de2-a5c0-4dd7-9fc9-d15c6ffddfde",
   "metadata": {},
   "outputs": [
    {
     "data": {
      "text/plain": [
       "canada      35.467\n",
       "france      63.951\n",
       "Germany     80.940\n",
       "italy       60.665\n",
       "japan      127.061\n",
       "UK          64.511\n",
       "US         318.523\n",
       "Name:  Group of 7 countires population in millions, dtype: float64"
      ]
     },
     "execution_count": 11,
     "metadata": {},
     "output_type": "execute_result"
    }
   ],
   "source": [
    "pd.Series([35.467, 63.951, 80.940, 60.665, 127.061, 64.511, 318.523],\n",
    "          index= ['canada', 'france','Germany', 'italy', 'japan', 'UK' , 'US'],\n",
    "          name=' Group of 7 countires population in millions')"
   ]
  },
  {
   "cell_type": "code",
   "execution_count": 12,
   "id": "c7d90c39-73ed-4372-b1f0-cc887f9adbf4",
   "metadata": {},
   "outputs": [
    {
     "data": {
      "text/plain": [
       "france     63.951\n",
       "Germany    80.940\n",
       "italy      60.665\n",
       "spain         NaN\n",
       "Name: Group of 7 countires population in millions, dtype: float64"
      ]
     },
     "execution_count": 12,
     "metadata": {},
     "output_type": "execute_result"
    }
   ],
   "source": [
    "\n",
    "pd.Series(g7_pop, index= ['france','Germany', 'italy', 'spain'])"
   ]
  },
  {
   "cell_type": "code",
   "execution_count": 13,
   "id": "80ec7669-26b8-4538-9ff6-8c43f99c3804",
   "metadata": {},
   "outputs": [
    {
     "data": {
      "text/plain": [
       "canada      35.467\n",
       "france      63.951\n",
       "Germany     80.940\n",
       "italy       60.665\n",
       "japan      127.061\n",
       "UK          64.511\n",
       "US         318.523\n",
       "Name: Group of 7 countires population in millions, dtype: float64"
      ]
     },
     "execution_count": 13,
     "metadata": {},
     "output_type": "execute_result"
    }
   ],
   "source": [
    "g7_pop"
   ]
  },
  {
   "cell_type": "code",
   "execution_count": 14,
   "id": "04d85f94-4e03-4211-a240-6307eb3fb6a8",
   "metadata": {},
   "outputs": [
    {
     "data": {
      "text/plain": [
       "np.float64(35.467)"
      ]
     },
     "execution_count": 14,
     "metadata": {},
     "output_type": "execute_result"
    }
   ],
   "source": [
    "g7_pop.iloc[0]"
   ]
  },
  {
   "cell_type": "code",
   "execution_count": 15,
   "id": "e4b619b8-d42d-474e-9498-578decdac054",
   "metadata": {},
   "outputs": [
    {
     "data": {
      "text/plain": [
       "np.float64(63.951)"
      ]
     },
     "execution_count": 15,
     "metadata": {},
     "output_type": "execute_result"
    }
   ],
   "source": [
    "g7_pop.iloc[1]"
   ]
  },
  {
   "cell_type": "code",
   "execution_count": 24,
   "id": "b1478e96-d12d-49d4-a995-80dc85b86084",
   "metadata": {},
   "outputs": [
    {
     "data": {
      "text/plain": [
       "np.float64(35.467)"
      ]
     },
     "execution_count": 24,
     "metadata": {},
     "output_type": "execute_result"
    }
   ],
   "source": [
    "g7_pop[0]"
   ]
  },
  {
   "cell_type": "code",
   "execution_count": 25,
   "id": "60da2668-2083-46ab-b37e-c20e93393a69",
   "metadata": {},
   "outputs": [
    {
     "data": {
      "text/plain": [
       "np.float64(107.30257142857144)"
      ]
     },
     "execution_count": 25,
     "metadata": {},
     "output_type": "execute_result"
    }
   ],
   "source": [
    "g7_pop.mean()"
   ]
  },
  {
   "cell_type": "code",
   "execution_count": 26,
   "id": "1f2a79ef-f373-47f2-bbd3-a6235875221b",
   "metadata": {},
   "outputs": [
    {
     "data": {
      "text/plain": [
       "0     True\n",
       "1     True\n",
       "2    False\n",
       "3     True\n",
       "4    False\n",
       "5     True\n",
       "6    False\n",
       "Name: Group of 7 countires population in millions, dtype: bool"
      ]
     },
     "execution_count": 26,
     "metadata": {},
     "output_type": "execute_result"
    }
   ],
   "source": [
    "g7_pop<70"
   ]
  },
  {
   "cell_type": "code",
   "execution_count": 27,
   "id": "5e37f468-b92d-4fb3-9bb1-be1ab5dde96c",
   "metadata": {},
   "outputs": [
    {
     "data": {
      "text/plain": [
       "0    35.467\n",
       "1    63.951\n",
       "3    60.665\n",
       "5    64.511\n",
       "Name: Group of 7 countires population in millions, dtype: float64"
      ]
     },
     "execution_count": 27,
     "metadata": {},
     "output_type": "execute_result"
    }
   ],
   "source": [
    "g7_pop[g7_pop<70]"
   ]
  },
  {
   "cell_type": "code",
   "execution_count": null,
   "id": "0033e56e-629e-4d3b-be91-c91bd2d6acee",
   "metadata": {},
   "outputs": [],
   "source": []
  }
 ],
 "metadata": {
  "kernelspec": {
   "display_name": "Python 3 (ipykernel)",
   "language": "python",
   "name": "python3"
  },
  "language_info": {
   "codemirror_mode": {
    "name": "ipython",
    "version": 3
   },
   "file_extension": ".py",
   "mimetype": "text/x-python",
   "name": "python",
   "nbconvert_exporter": "python",
   "pygments_lexer": "ipython3",
   "version": "3.13.1"
  }
 },
 "nbformat": 4,
 "nbformat_minor": 5
}
