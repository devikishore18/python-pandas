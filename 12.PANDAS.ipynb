{
 "cells": [
  {
   "cell_type": "markdown",
   "id": "c76580d8-a674-484a-b5de-943cd4277bf4",
   "metadata": {},
   "source": [
    "# Pandas — Python Data Analysis Library\n",
    "\n",
    "## What is Pandas?\n",
    "\n",
    "- Pandas is a powerful **data analysis and manipulation** library for Python.\n",
    "- Used for:\n",
    "  - Tabular data (like spreadsheets, CSVs)\n",
    "  - Time series\n",
    "  - Data cleaning & analysis\n",
    "\n",
    "📦 Install: `pip install pandas`\n",
    "\n",
    "---\n",
    "\n",
    "\n"
   ]
  },
  {
   "cell_type": "markdown",
   "id": "8b8fcce9-458c-499a-8d93-745beb842ce0",
   "metadata": {},
   "source": [
    "## 📌 Importing Pandas\n",
    "\n",
    "```python\n",
    "import pandas as pd"
   ]
  },
  {
   "cell_type": "markdown",
   "id": "bb530602-5232-4e41-bdc5-d78be8c14c24",
   "metadata": {},
   "source": [
    "## Creating DataFrames\n",
    "A Pandas DataFrame is a 2 dimensional data structure, like a 2 dimensional array, or a table with rows and columns.\n",
    "\n"
   ]
  },
  {
   "cell_type": "code",
   "execution_count": 5,
   "id": "4fd49431-139b-44d6-8ecf-508e2ab593fb",
   "metadata": {},
   "outputs": [
    {
     "name": "stdout",
     "output_type": "stream",
     "text": [
      "      Name  Age     City\n",
      "0    Alice   25    Delhi\n",
      "1      Bob   30   Mumbai\n",
      "2  Charlie   22  Chennai\n"
     ]
    }
   ],
   "source": [
    "import pandas as pd\n",
    "data = {\n",
    "    'Name': ['Alice', 'Bob', 'Charlie'],\n",
    "    'Age': [25, 30, 22],\n",
    "    'City': ['Delhi', 'Mumbai', 'Chennai']\n",
    "}\n",
    "\n",
    "df = pd.DataFrame(data)\n",
    "print(df)"
   ]
  },
  {
   "cell_type": "markdown",
   "id": "de974147-4560-47ec-b2a1-9475a13a8db8",
   "metadata": {},
   "source": [
    "## Reading CSV/Excel"
   ]
  },
  {
   "cell_type": "code",
   "execution_count": null,
   "id": "fee4eec8-428f-4639-80a0-35f616d017ed",
   "metadata": {},
   "outputs": [],
   "source": [
    "df = pd.read_csv('data.csv')      # Read CSV\n",
    "df = pd.read_excel('data.xlsx')   # Read Excel"
   ]
  },
  {
   "cell_type": "markdown",
   "id": "45e8cad1-d9f3-41e1-869b-827fa372c4e6",
   "metadata": {},
   "source": [
    "## Viewing Data"
   ]
  },
  {
   "cell_type": "code",
   "execution_count": null,
   "id": "f01431ff-d176-45c5-b306-8d39c10d9b3a",
   "metadata": {},
   "outputs": [],
   "source": [
    "df.head()         # First 5 rows\n",
    "df.tail()         # Last 5 rows\n",
    "df.info()         # Data types and non-null info\n",
    "df.describe()     # Summary statistics"
   ]
  },
  {
   "cell_type": "markdown",
   "id": "31966e9f-c464-48e8-b87a-084c5d389e58",
   "metadata": {},
   "source": [
    "## Selecting Columns and Rows\n",
    "\n"
   ]
  },
  {
   "cell_type": "code",
   "execution_count": null,
   "id": "3a3f9923-ca24-4c74-854b-e7b2b1ca53f0",
   "metadata": {},
   "outputs": [],
   "source": [
    "df['Name']             # Single column\n",
    "df[['Name', 'City']]   # Multiple columns\n",
    "\n",
    "#Pandas use the loc attribute to return one or more specified row(s)\n",
    "df.iloc[0]             # First row (by index)\n",
    "df.loc[0]              # First row (by label)"
   ]
  },
  {
   "cell_type": "markdown",
   "id": "13caba7a-bc70-4ced-8603-8c26e0ea36dc",
   "metadata": {},
   "source": [
    "## Filtering Data (Conditions)"
   ]
  },
  {
   "cell_type": "code",
   "execution_count": null,
   "id": "890ef42b-c69f-46bc-83d4-e2d327743f7d",
   "metadata": {},
   "outputs": [],
   "source": [
    "# People older than 24\n",
    "df[df['Age'] > 24]\n",
    "\n",
    "# People from Mumbai\n",
    "df[df['City'] == 'Mumbai']"
   ]
  },
  {
   "cell_type": "markdown",
   "id": "029d7438-99d3-48de-ae7f-81bbc981ef83",
   "metadata": {},
   "source": [
    "## Adding & Modifying Columns\n"
   ]
  },
  {
   "cell_type": "code",
   "execution_count": null,
   "id": "8d875ec1-b749-46ed-81eb-977413c4d270",
   "metadata": {},
   "outputs": [],
   "source": [
    "df['Senior'] = df['Age'] > 28"
   ]
  },
  {
   "cell_type": "markdown",
   "id": "b729b115-6a8d-49b6-a734-71a01174d0cf",
   "metadata": {},
   "source": [
    "## Deleting Columns or Rows"
   ]
  },
  {
   "cell_type": "code",
   "execution_count": null,
   "id": "48f36750-0dbd-40e1-8a4e-be84d6dfbe75",
   "metadata": {},
   "outputs": [],
   "source": [
    "df.drop('Senior', axis=1, inplace=True)   # Drop column\n",
    "df.drop(0, axis=0)                         # Drop first row"
   ]
  },
  {
   "cell_type": "markdown",
   "id": "13dd0ec1-2269-4a0d-b243-527572046046",
   "metadata": {},
   "source": [
    "## Sorting Data"
   ]
  },
  {
   "cell_type": "code",
   "execution_count": null,
   "id": "04ddea29-c683-4f5b-89e1-c822c1b3c544",
   "metadata": {},
   "outputs": [],
   "source": [
    "df.sort_values(by='Age', ascending=False)"
   ]
  },
  {
   "cell_type": "markdown",
   "id": "b7bcc608-22cb-4595-a882-bb7a71eea0d5",
   "metadata": {},
   "source": [
    "## Grouping Data\n",
    "\n"
   ]
  },
  {
   "cell_type": "code",
   "execution_count": null,
   "id": "3d636bbe-af19-4a99-9582-8d6c0803f69c",
   "metadata": {},
   "outputs": [],
   "source": [
    "df.groupby('City')['Age'].mean()\n"
   ]
  },
  {
   "cell_type": "markdown",
   "id": "0ed91d5c-03f5-4da7-8b87-3a266eacc5d3",
   "metadata": {},
   "source": [
    "## Handling Missing Values"
   ]
  },
  {
   "cell_type": "code",
   "execution_count": null,
   "id": "4216c419-3da5-4609-9a5c-3df6bae60112",
   "metadata": {},
   "outputs": [],
   "source": [
    "df.isnull().sum()            # Count missing values\n",
    "df.fillna(0)                 # Fill missing with 0\n",
    "df.dropna()                  # Drop rows with missing"
   ]
  },
  {
   "cell_type": "markdown",
   "id": "90592482-7018-4243-ba09-17de92fbafad",
   "metadata": {},
   "source": [
    "## Merging & Joining"
   ]
  },
  {
   "cell_type": "code",
   "execution_count": null,
   "id": "671f5cec-a255-471a-8520-41d3a7fc1f4a",
   "metadata": {},
   "outputs": [],
   "source": [
    "pd.merge(df1, df2, on='ID')  # Merge on common column"
   ]
  },
  {
   "cell_type": "markdown",
   "id": "c3768f10-5b3c-4a66-8b90-97e561e59b4d",
   "metadata": {},
   "source": [
    "## Saving to File"
   ]
  },
  {
   "cell_type": "code",
   "execution_count": null,
   "id": "87690166-eb76-483c-8fa1-0ef58752ff93",
   "metadata": {},
   "outputs": [],
   "source": [
    "df.to_csv('output.csv', index=False)"
   ]
  },
  {
   "cell_type": "markdown",
   "id": "7776c238-418b-483a-b17c-38bf3c77c5a2",
   "metadata": {},
   "source": [
    "## Practice Mini Task\n",
    "\n"
   ]
  },
  {
   "cell_type": "code",
   "execution_count": 9,
   "id": "ff1c8f5d-9f61-4459-8dee-2d89793fb4f7",
   "metadata": {},
   "outputs": [
    {
     "data": {
      "text/html": [
       "<div>\n",
       "<style scoped>\n",
       "    .dataframe tbody tr th:only-of-type {\n",
       "        vertical-align: middle;\n",
       "    }\n",
       "\n",
       "    .dataframe tbody tr th {\n",
       "        vertical-align: top;\n",
       "    }\n",
       "\n",
       "    .dataframe thead th {\n",
       "        text-align: right;\n",
       "    }\n",
       "</style>\n",
       "<table border=\"1\" class=\"dataframe\">\n",
       "  <thead>\n",
       "    <tr style=\"text-align: right;\">\n",
       "      <th></th>\n",
       "      <th>Student</th>\n",
       "      <th>Math</th>\n",
       "      <th>Science</th>\n",
       "      <th>Total</th>\n",
       "      <th>Average</th>\n",
       "    </tr>\n",
       "  </thead>\n",
       "  <tbody>\n",
       "    <tr>\n",
       "      <th>1</th>\n",
       "      <td>B</td>\n",
       "      <td>90</td>\n",
       "      <td>88</td>\n",
       "      <td>178</td>\n",
       "      <td>89.0</td>\n",
       "    </tr>\n",
       "    <tr>\n",
       "      <th>2</th>\n",
       "      <td>C</td>\n",
       "      <td>85</td>\n",
       "      <td>82</td>\n",
       "      <td>167</td>\n",
       "      <td>83.5</td>\n",
       "    </tr>\n",
       "    <tr>\n",
       "      <th>0</th>\n",
       "      <td>A</td>\n",
       "      <td>80</td>\n",
       "      <td>75</td>\n",
       "      <td>155</td>\n",
       "      <td>77.5</td>\n",
       "    </tr>\n",
       "  </tbody>\n",
       "</table>\n",
       "</div>"
      ],
      "text/plain": [
       "  Student  Math  Science  Total  Average\n",
       "1       B    90       88    178     89.0\n",
       "2       C    85       82    167     83.5\n",
       "0       A    80       75    155     77.5"
      ]
     },
     "execution_count": 9,
     "metadata": {},
     "output_type": "execute_result"
    }
   ],
   "source": [
    "# Task: Load student marks and analyze\n",
    "marks = {\n",
    "    'Student': ['A', 'B', 'C'],\n",
    "    'Math': [80, 90, 85],\n",
    "    'Science': [75, 88, 82]\n",
    "}\n",
    "\n",
    "df = pd.DataFrame(marks)\n",
    "df['Total'] = df['Math'] + df['Science']\n",
    "df['Average'] = df[['Math', 'Science']].mean(axis=1)\n",
    "df.sort_values(by='Average', ascending=False)\n"
   ]
  },
  {
   "cell_type": "markdown",
   "id": "1f79f309-559b-4e8d-a08e-9e56489e878e",
   "metadata": {},
   "source": [
    "## Summary Table"
   ]
  },
  {
   "cell_type": "markdown",
   "id": "226e545f-c835-4a97-9d36-fe5f477778c8",
   "metadata": {},
   "source": [
    "| Task            | Code                    |\n",
    "| --------------- | ----------------------- |\n",
    "| Read CSV        | `pd.read_csv()`         |\n",
    "| View top rows   | `df.head()`             |\n",
    "| Select column   | `df['col']`             |\n",
    "| Filter rows     | `df[df['col'] > value]` |\n",
    "| Add new column  | `df['new'] = ...`       |\n",
    "| Drop column/row | `df.drop()`             |\n",
    "| Group by        | `df.groupby('col')`     |\n",
    "| Export          | `df.to_csv()`           |\n"
   ]
  },
  {
   "cell_type": "markdown",
   "id": "4b237098-172e-446b-bb5a-bf77d4d6d0b2",
   "metadata": {},
   "source": [
    "✅ Pandas makes working with structured data easy, efficient, and intuitive — it’s a must-know for data science and analysis!"
   ]
  },
  {
   "cell_type": "code",
   "execution_count": null,
   "id": "3c72ad99-d16c-4619-b21e-4be1364c0b60",
   "metadata": {},
   "outputs": [],
   "source": []
  }
 ],
 "metadata": {
  "kernelspec": {
   "display_name": "Python 3 (ipykernel)",
   "language": "python",
   "name": "python3"
  },
  "language_info": {
   "codemirror_mode": {
    "name": "ipython",
    "version": 3
   },
   "file_extension": ".py",
   "mimetype": "text/x-python",
   "name": "python",
   "nbconvert_exporter": "python",
   "pygments_lexer": "ipython3",
   "version": "3.13.1"
  }
 },
 "nbformat": 4,
 "nbformat_minor": 5
}
